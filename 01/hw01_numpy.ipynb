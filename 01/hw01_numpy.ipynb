{
 "cells": [
  {
   "cell_type": "markdown",
   "id": "c7124c48-6d74-4da4-b61d-420c1e40a557",
   "metadata": {
    "jp-MarkdownHeadingCollapsed": true,
    "tags": []
   },
   "source": [
    "#### Задание 1"
   ]
  },
  {
   "cell_type": "markdown",
   "id": "9a06bf80-5797-4e9a-9498-e52f5b527835",
   "metadata": {},
   "source": [
    "Импортируйте библиотеку Numpy и дайте ей псевдоним np.\n",
    "Создайте массив Numpy под названием a размером 5x2, то есть состоящий из 5 строк и 2 столбцов. Первый столбец должен содержать числа 1, 2, 3, 3, 1, а второй - числа 6, 8, 11, 10, 7. Будем считать, что каждый столбец - это признак, а строка - наблюдение. Затем найдите среднее значение по каждому признаку, используя метод mean массива Numpy. Результат запишите в массив mean_a, в нем должно быть 2 элемента."
   ]
  },
  {
   "cell_type": "code",
   "execution_count": 1,
   "id": "5ee955bb-e808-4b9f-ad26-3100a4381a95",
   "metadata": {},
   "outputs": [],
   "source": [
    "import numpy as np"
   ]
  },
  {
   "cell_type": "code",
   "execution_count": 8,
   "id": "07a9f7c6-7548-408d-ba5c-f02998703ca2",
   "metadata": {},
   "outputs": [
    {
     "data": {
      "text/plain": [
       "array([[ 1,  6],\n",
       "       [ 2,  8],\n",
       "       [ 3, 11],\n",
       "       [ 3, 10],\n",
       "       [ 1,  7]])"
      ]
     },
     "execution_count": 8,
     "metadata": {},
     "output_type": "execute_result"
    }
   ],
   "source": [
    "a = np.array([[1, 6],\n",
    "                [2, 8],\n",
    "                [3, 11],\n",
    "                [3, 10],\n",
    "                [1, 7]])\n",
    "a"
   ]
  },
  {
   "cell_type": "code",
   "execution_count": 6,
   "id": "bcbd19c5-2f13-4f97-b2f0-042da6088d72",
   "metadata": {},
   "outputs": [
    {
     "data": {
      "text/plain": [
       "array([2. , 8.4])"
      ]
     },
     "execution_count": 6,
     "metadata": {},
     "output_type": "execute_result"
    }
   ],
   "source": [
    "mean_a = a.mean(axis = 0)\n",
    "mean_a"
   ]
  },
  {
   "cell_type": "markdown",
   "id": "6b38389f-cf59-43dc-94af-b49aaf42bc6d",
   "metadata": {
    "jp-MarkdownHeadingCollapsed": true,
    "tags": []
   },
   "source": [
    "#### Задание 2"
   ]
  },
  {
   "cell_type": "markdown",
   "id": "9c574171-2047-48a4-9704-d4f576ff0059",
   "metadata": {},
   "source": [
    "Вычислите массив a_centered, отняв от значений массива “а” средние значения соответствующих признаков, содержащиеся в массиве mean_a. Вычисление должно производиться в одно действие. Получившийся массив должен иметь размер 5x2."
   ]
  },
  {
   "cell_type": "code",
   "execution_count": 11,
   "id": "f4abe753-057d-4721-af6c-31e742b02403",
   "metadata": {},
   "outputs": [
    {
     "data": {
      "text/plain": [
       "array([[-1. , -2.4],\n",
       "       [ 0. , -0.4],\n",
       "       [ 1. ,  2.6],\n",
       "       [ 1. ,  1.6],\n",
       "       [-1. , -1.4]])"
      ]
     },
     "execution_count": 11,
     "metadata": {},
     "output_type": "execute_result"
    }
   ],
   "source": [
    "a_centered = np.subtract(a, mean_a)\n",
    "a_centered"
   ]
  },
  {
   "cell_type": "markdown",
   "id": "df5220db-0b9b-4b9f-995e-4241eaa1d881",
   "metadata": {
    "jp-MarkdownHeadingCollapsed": true,
    "tags": []
   },
   "source": [
    "#### Задание 3"
   ]
  },
  {
   "cell_type": "markdown",
   "id": "825ebb03-a906-4344-8f22-f0230c854d42",
   "metadata": {},
   "source": [
    "Найдите скалярное произведение столбцов массива a_centered. В результате должна получиться величина a_centered_sp. Затем поделите a_centered_sp на N-1, где N - число наблюдений."
   ]
  },
  {
   "cell_type": "code",
   "execution_count": 14,
   "id": "5464ccd7-1fd9-45df-bc22-38ee9e009e7e",
   "metadata": {},
   "outputs": [
    {
     "data": {
      "text/plain": [
       "array([-1.,  0.,  1.,  1., -1.])"
      ]
     },
     "execution_count": 14,
     "metadata": {},
     "output_type": "execute_result"
    }
   ],
   "source": [
    "a0 = a_centered[:, 0]\n",
    "a0"
   ]
  },
  {
   "cell_type": "code",
   "execution_count": 15,
   "id": "43ebe7de-8f58-4c74-b008-d3363c04439e",
   "metadata": {},
   "outputs": [
    {
     "data": {
      "text/plain": [
       "array([-2.4, -0.4,  2.6,  1.6, -1.4])"
      ]
     },
     "execution_count": 15,
     "metadata": {},
     "output_type": "execute_result"
    }
   ],
   "source": [
    "a1 = a_centered[:, 1]\n",
    "a1"
   ]
  },
  {
   "cell_type": "code",
   "execution_count": 19,
   "id": "98318395-6261-413f-9d82-d0dc7f9909fa",
   "metadata": {},
   "outputs": [
    {
     "data": {
      "text/plain": [
       "8.0"
      ]
     },
     "execution_count": 19,
     "metadata": {},
     "output_type": "execute_result"
    }
   ],
   "source": [
    "a_centered_sp = a0 @ a1\n",
    "a_centered_sp"
   ]
  },
  {
   "cell_type": "code",
   "execution_count": 22,
   "id": "3ac0a65b-be10-46b6-8167-092a910a874f",
   "metadata": {},
   "outputs": [
    {
     "data": {
      "text/plain": [
       "5"
      ]
     },
     "execution_count": 22,
     "metadata": {},
     "output_type": "execute_result"
    }
   ],
   "source": [
    "N = a_centered.shape[0]\n",
    "N"
   ]
  },
  {
   "cell_type": "code",
   "execution_count": 24,
   "id": "4c5e906b-fca6-4d0d-980f-76b2d1e2e22b",
   "metadata": {},
   "outputs": [
    {
     "data": {
      "text/plain": [
       "2.0"
      ]
     },
     "execution_count": 24,
     "metadata": {},
     "output_type": "execute_result"
    }
   ],
   "source": [
    "x = a_centered_sp / (N - 1)\n",
    "x"
   ]
  },
  {
   "cell_type": "markdown",
   "id": "57cde141-b917-45b1-afb4-9fbb9021ea46",
   "metadata": {
    "jp-MarkdownHeadingCollapsed": true,
    "tags": []
   },
   "source": [
    "#### Задание 4**"
   ]
  },
  {
   "cell_type": "markdown",
   "id": "e6b3ff11-2712-4cbf-abbc-cd82f2b5c1a2",
   "metadata": {},
   "source": [
    "Число, которое мы получили в конце задания 3 является ковариацией двух признаков, содержащихся в массиве “а”. В задании 4 мы делили сумму произведений центрированных признаков на N-1, а не на N, поэтому полученная нами величина является несмещенной оценкой ковариации."
   ]
  },
  {
   "cell_type": "markdown",
   "id": "e6740aef-1e67-447e-afd8-b270132dd3a7",
   "metadata": {},
   "source": [
    "В этом задании проверьте получившееся число, вычислив ковариацию еще одним способом - с помощью функции np.cov. В качестве аргумента m функция np.cov должна принимать транспонированный массив “a”. В получившейся ковариационной матрице (массив Numpy размером 2x2) искомое значение ковариации будет равно элементу в строке с индексом 0 и столбце с индексом 1.ё"
   ]
  },
  {
   "cell_type": "code",
   "execution_count": 26,
   "id": "6480e929-62dc-44e4-bac7-506d9cfe7bb2",
   "metadata": {},
   "outputs": [
    {
     "data": {
      "text/plain": [
       "array([[ 1,  2,  3,  3,  1],\n",
       "       [ 6,  8, 11, 10,  7]])"
      ]
     },
     "execution_count": 26,
     "metadata": {},
     "output_type": "execute_result"
    }
   ],
   "source": [
    "at = a.transpose()\n",
    "at"
   ]
  },
  {
   "cell_type": "code",
   "execution_count": 33,
   "id": "27962782-ae62-4799-a4fb-6d06daf03964",
   "metadata": {},
   "outputs": [
    {
     "data": {
      "text/plain": [
       "array([[1. , 2. ],\n",
       "       [2. , 4.3]])"
      ]
     },
     "execution_count": 33,
     "metadata": {},
     "output_type": "execute_result"
    }
   ],
   "source": [
    "at_cov = np.cov(at)\n",
    "at_cov"
   ]
  },
  {
   "cell_type": "code",
   "execution_count": 34,
   "id": "6150fd3f-71aa-4e2c-a475-12c40eeabdc9",
   "metadata": {},
   "outputs": [
    {
     "data": {
      "text/plain": [
       "2.0"
      ]
     },
     "execution_count": 34,
     "metadata": {},
     "output_type": "execute_result"
    }
   ],
   "source": [
    "cov = at_cov[0, 1]\n",
    "cov"
   ]
  },
  {
   "cell_type": "code",
   "execution_count": 35,
   "id": "d36e1ce3-10c4-47d0-a284-3ddc560e72c5",
   "metadata": {},
   "outputs": [
    {
     "data": {
      "text/plain": [
       "True"
      ]
     },
     "execution_count": 35,
     "metadata": {},
     "output_type": "execute_result"
    }
   ],
   "source": [
    "cov == x"
   ]
  }
 ],
 "metadata": {
  "kernelspec": {
   "display_name": "Python 3 (ipykernel)",
   "language": "python",
   "name": "python3"
  },
  "language_info": {
   "codemirror_mode": {
    "name": "ipython",
    "version": 3
   },
   "file_extension": ".py",
   "mimetype": "text/x-python",
   "name": "python",
   "nbconvert_exporter": "python",
   "pygments_lexer": "ipython3",
   "version": "3.8.10"
  }
 },
 "nbformat": 4,
 "nbformat_minor": 5
}
