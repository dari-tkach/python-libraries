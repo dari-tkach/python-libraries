{
 "cells": [
  {
   "cell_type": "code",
   "execution_count": 1,
   "id": "e8678a46-d6f4-4779-a668-0b2c194f12f3",
   "metadata": {},
   "outputs": [],
   "source": [
    "import numpy as np\n",
    "import pandas as pd"
   ]
  },
  {
   "cell_type": "markdown",
   "id": "5bf280fa-d8a9-4cfd-95af-8e77b5b291e1",
   "metadata": {},
   "source": [
    "1. Создать одномерный массив Numpy под названием a из 12 последовательных целых чисел чисел от 12 до 24 невключительно"
   ]
  },
  {
   "cell_type": "code",
   "execution_count": 3,
   "id": "6487212c-9602-4c23-b794-d375666404bc",
   "metadata": {},
   "outputs": [
    {
     "data": {
      "text/plain": [
       "array([12, 13, 14, 15, 16, 17, 18, 19, 20, 21, 22, 23])"
      ]
     },
     "execution_count": 3,
     "metadata": {},
     "output_type": "execute_result"
    }
   ],
   "source": [
    "a = np.arange(12, 24)\n",
    "a"
   ]
  },
  {
   "cell_type": "markdown",
   "id": "48c1fddc-eb91-44bf-a545-ffcb164bacde",
   "metadata": {},
   "source": [
    "2. Создать 5 двумерных массивов разной формы из массива a. Не использовать в аргументах метода reshape число -1."
   ]
  },
  {
   "cell_type": "code",
   "execution_count": 17,
   "id": "b4945e38-3135-4d9b-9faa-fa0f7808a0c3",
   "metadata": {},
   "outputs": [],
   "source": [
    "a1 = a.reshape(3, 4)\n",
    "a2 = a.reshape(4, 3)\n",
    "a3 = a.reshape(2, 6)\n",
    "a4 = a.reshape(6, 2)\n",
    "a5 = a.reshape(12, 1)"
   ]
  },
  {
   "cell_type": "markdown",
   "id": "423a1a8d-a5c9-4f09-89b6-115c17855696",
   "metadata": {},
   "source": [
    "3. Создать 5 двумерных массивов разной формы из массива a. Использовать в аргументах метода reshape число -1 (в трех примерах - для обозначения числа столбцов, в двух - для строк)."
   ]
  },
  {
   "cell_type": "code",
   "execution_count": 22,
   "id": "a52b3ffb-e824-48fe-8e03-2ef0712fd091",
   "metadata": {},
   "outputs": [],
   "source": [
    "b1 = np.reshape(a, (3, -1))\n",
    "b2 = np.reshape(a, (4, -1))\n",
    "b3 = np.reshape(a, (-1, 12))\n",
    "b4 = np.reshape(a, (-1, 6))\n",
    "b5 = np.reshape(a, (-1, 3))"
   ]
  },
  {
   "cell_type": "markdown",
   "id": "33a8c3cc-6201-4659-9058-dbfa28c57068",
   "metadata": {},
   "source": [
    "4. Можно ли массив Numpy, состоящий из одного столбца и 12 строк, назвать одномерным?"
   ]
  },
  {
   "cell_type": "markdown",
   "id": "8749737a-fb68-427a-99e5-de6dbf0b69a3",
   "metadata": {},
   "source": [
    "нет"
   ]
  },
  {
   "cell_type": "markdown",
   "id": "35415177-82b8-4314-a83b-dc0ccfde4aa9",
   "metadata": {},
   "source": [
    "5. Создать массив из 3 строк и 4 столбцов, состоящий из случайных чисел с плавающей запятой из нормального распределения со средним, равным 0 и среднеквадратичным отклонением, равным 1.0. Получить из этого массива одномерный массив с таким же атрибутом size, как и исходный массив."
   ]
  },
  {
   "cell_type": "code",
   "execution_count": 42,
   "id": "967951f3-b16f-4337-974a-31e0ec1436e4",
   "metadata": {},
   "outputs": [
    {
     "data": {
      "text/plain": [
       "(12, 12)"
      ]
     },
     "execution_count": 42,
     "metadata": {},
     "output_type": "execute_result"
    }
   ],
   "source": [
    "x = np.random.randn(3, 4)\n",
    "x1 = x.flatten()\n",
    "x.size, x1.size"
   ]
  },
  {
   "cell_type": "markdown",
   "id": "bd1c440a-308b-4823-92df-2355c8c4e591",
   "metadata": {},
   "source": [
    "6. Создать массив a, состоящий из целых чисел, убывающих от 20 до 0 невключительно с интервалом 2."
   ]
  },
  {
   "cell_type": "code",
   "execution_count": 33,
   "id": "36bbf28e-c6d5-4872-aec9-0caab3fd0cbe",
   "metadata": {},
   "outputs": [
    {
     "data": {
      "text/plain": [
       "array([20, 18, 16, 14, 12, 10,  8,  6,  4,  2])"
      ]
     },
     "execution_count": 33,
     "metadata": {},
     "output_type": "execute_result"
    }
   ],
   "source": [
    "a = np.arange(20, 0, -2)\n",
    "a"
   ]
  },
  {
   "cell_type": "markdown",
   "id": "c4d33aa8-b6df-49d0-9f2c-d516ada9fc7d",
   "metadata": {},
   "source": [
    "7. Создать массив b, состоящий из 1 строки и 10 столбцов: целых чисел, убывающих от 20 до 1 невключительно с интервалом 2. В чем разница между массивами a и b?"
   ]
  },
  {
   "cell_type": "code",
   "execution_count": 46,
   "id": "99b9a9e1-ebf2-42f9-9788-0393a58ed748",
   "metadata": {},
   "outputs": [
    {
     "data": {
      "text/plain": [
       "array([[20, 18, 16, 14, 12, 10,  8,  6,  4,  2]])"
      ]
     },
     "execution_count": 46,
     "metadata": {},
     "output_type": "execute_result"
    }
   ],
   "source": [
    "b = np.arange(20, 0, -2).reshape(1, 10)\n",
    "b \n",
    "# b - двумерный массив, а - одномерный"
   ]
  },
  {
   "cell_type": "markdown",
   "id": "8fb7c47e-8f19-4573-b2b3-7b1ef58c803e",
   "metadata": {},
   "source": [
    "8. Вертикально соединить массивы a и b. a - двумерный массив из нулей, число строк которого больше 1 и на 1 меньше, чем число строк двумерного массива b, состоящего из единиц. Итоговый массив v должен иметь атрибут size, равный 10."
   ]
  },
  {
   "cell_type": "code",
   "execution_count": 55,
   "id": "f19d8651-379b-47a1-a055-72b21f1bf254",
   "metadata": {},
   "outputs": [
    {
     "data": {
      "text/plain": [
       "(array([[0., 0.],\n",
       "        [0., 0.],\n",
       "        [1., 1.],\n",
       "        [1., 1.],\n",
       "        [1., 1.]]),\n",
       " 10)"
      ]
     },
     "execution_count": 55,
     "metadata": {},
     "output_type": "execute_result"
    }
   ],
   "source": [
    "a = np.zeros((2, 2))\n",
    "b = np.ones((3, 2))\n",
    "v = np.vstack((a, b))\n",
    "v, v.size"
   ]
  },
  {
   "cell_type": "markdown",
   "id": "b5ae583c-3f50-4a17-bb9c-4033c061f05f",
   "metadata": {},
   "source": [
    "9. Создать одномерный массив а, состоящий из последовательности целых чисел от 0 до 12. Поменять форму этого массива, чтобы получилась матрица A (двумерный массив Numpy), состоящая из 4 строк и 3 столбцов. Получить матрицу At путем транспонирования матрицы A. Получить матрицу B, умножив матрицу A на матрицу At с помощью матричного умножения. Какой размер имеет матрица B? Получится ли вычислить обратную матрицу для матрицы B и почему?"
   ]
  },
  {
   "cell_type": "code",
   "execution_count": 69,
   "id": "2d0b4ae4-d17d-481e-8f2c-3fe2eb6008e9",
   "metadata": {},
   "outputs": [
    {
     "data": {
      "text/plain": [
       "(array([[  5,  14,  23,  32],\n",
       "        [ 14,  50,  86, 122],\n",
       "        [ 23,  86, 149, 212],\n",
       "        [ 32, 122, 212, 302]]),\n",
       " 16)"
      ]
     },
     "execution_count": 69,
     "metadata": {},
     "output_type": "execute_result"
    }
   ],
   "source": [
    "a = np.arange(0, 12)\n",
    "A = np.reshape(a, (4, 3))\n",
    "At = A.T\n",
    "B = np.dot(A, At)\n",
    "B, B.size"
   ]
  },
  {
   "cell_type": "code",
   "execution_count": 79,
   "id": "00969a1b-3d39-40d4-8f71-b6ee2614a0a3",
   "metadata": {},
   "outputs": [
    {
     "data": {
      "text/plain": [
       "0.0"
      ]
     },
     "execution_count": 79,
     "metadata": {},
     "output_type": "execute_result"
    }
   ],
   "source": [
    "# Квадратная матрица обратима тогда и только тогда, \n",
    "# когда она невырождена, то есть её определитель не равен нулю.\n",
    "B_opr = np.linalg.det(B)\n",
    "B_opr"
   ]
  },
  {
   "cell_type": "markdown",
   "id": "c108cc0f-1996-408a-a1a3-50d359053ab1",
   "metadata": {},
   "source": [
    "Определитель = 0 => матрица необратима"
   ]
  },
  {
   "cell_type": "markdown",
   "id": "6e76de5c-b0af-4359-b80e-2acdffd5089d",
   "metadata": {},
   "source": [
    "10. Инициализируйте генератор случайных числе с помощью объекта seed, равного 42."
   ]
  },
  {
   "cell_type": "code",
   "execution_count": 75,
   "id": "b1782d75-880c-4bfd-9aa2-5c0ce2eb7e3b",
   "metadata": {},
   "outputs": [],
   "source": [
    "np.random.seed(42)"
   ]
  },
  {
   "cell_type": "markdown",
   "id": "f2c82dfa-6928-46f6-85dc-b402b87e1a14",
   "metadata": {},
   "source": [
    "11. Создайте одномерный массив c, составленный из последовательности 16-ти случайных равномерно распределенных целых чисел от 0 до 16 невключительно. "
   ]
  },
  {
   "cell_type": "code",
   "execution_count": 76,
   "id": "c6404bad-4fc4-4a93-bc18-1aeb5a4d36cb",
   "metadata": {},
   "outputs": [
    {
     "data": {
      "text/plain": [
       "array([ 6,  3, 12, 14, 10,  7, 12,  4,  6,  9,  2,  6, 10, 10,  7,  4])"
      ]
     },
     "execution_count": 76,
     "metadata": {},
     "output_type": "execute_result"
    }
   ],
   "source": [
    "c = np.random.randint(0, 16, 16)\n",
    "c"
   ]
  },
  {
   "cell_type": "markdown",
   "id": "d0dfb046-8bef-4cd2-af58-5fc985e36960",
   "metadata": {},
   "source": [
    "12. Поменяйте его форму так, чтобы получилась квадратная матрица C. Получите матрицу D, поэлементно прибавив матрицу B из предыдущего вопроса к матрице C, умноженной на 10. Вычислите определитель, ранг и обратную матрицу D_inv для D."
   ]
  },
  {
   "cell_type": "code",
   "execution_count": 110,
   "id": "6e0eefcd-327c-406f-a38c-58c0f7655bef",
   "metadata": {},
   "outputs": [
    {
     "data": {
      "text/plain": [
       "array([[ 65,  44, 143, 172],\n",
       "       [114, 120, 206, 162],\n",
       "       [ 83, 176, 169, 272],\n",
       "       [132, 222, 282, 342]])"
      ]
     },
     "execution_count": 110,
     "metadata": {},
     "output_type": "execute_result"
    }
   ],
   "source": [
    "C = np.reshape(c, (4, 4))\n",
    "D = B + (C*10)\n",
    "D"
   ]
  },
  {
   "cell_type": "code",
   "execution_count": 111,
   "id": "489ed1cd-94dd-47d2-83d9-46d45f9793c7",
   "metadata": {},
   "outputs": [
    {
     "data": {
      "text/plain": [
       "(-28511999.999999944, 4)"
      ]
     },
     "execution_count": 111,
     "metadata": {},
     "output_type": "execute_result"
    }
   ],
   "source": [
    "D_opr = np.linalg.det(D)\n",
    "D_rank = np.linalg.matrix_rank(D)\n",
    "D_opr, D_rank"
   ]
  },
  {
   "cell_type": "code",
   "execution_count": 112,
   "id": "90087a21-3978-40b8-95b0-b9b20e8dee0c",
   "metadata": {},
   "outputs": [
    {
     "data": {
      "text/plain": [
       "array([[ 0.00935396,  0.04486532,  0.05897517, -0.07286055],\n",
       "       [-0.01503577, -0.00122896, -0.00192971,  0.00967873],\n",
       "       [-0.00356692, -0.01782828, -0.04152146,  0.04326178],\n",
       "       [ 0.00909091, -0.00181818,  0.01272727, -0.01090909]])"
      ]
     },
     "execution_count": 112,
     "metadata": {},
     "output_type": "execute_result"
    }
   ],
   "source": [
    "D_inv = np.linalg.inv(D)\n",
    "D_inv"
   ]
  },
  {
   "cell_type": "markdown",
   "id": "938a3ca2-68ce-4320-a219-37780be3036c",
   "metadata": {},
   "source": [
    "13. Приравняйте к нулю отрицательные числа в матрице D_inv, а положительные - к единице. Убедитесь, что в матрице D_inv остались только нули и единицы. С помощью функции numpy.where, используя матрицу D_inv в качестве маски, а матрицы B и C - в качестве источников данных, получите матрицу E размером 4x4.  Элементы матрицы E, для которых соответствующий элемент матрицы D_inv равен 1, должны быть равны соответствующему элементу матрицы B, а элементы матрицы E, для которых соответствующий элемент матрицы D_inv равен 0, должны быть равны соответствующему элементу матрицы C. "
   ]
  },
  {
   "cell_type": "code",
   "execution_count": 113,
   "id": "268d46d9-dbfb-43c3-94a6-e5990b77788e",
   "metadata": {},
   "outputs": [],
   "source": [
    "D_inv[np.where(D_inv < 0)] = 0"
   ]
  },
  {
   "cell_type": "code",
   "execution_count": 114,
   "id": "e2cade09-3c6e-44f3-8274-d86aa9f4d69c",
   "metadata": {},
   "outputs": [],
   "source": [
    "D_inv[np.where(D_inv > 0)] = 1"
   ]
  },
  {
   "cell_type": "code",
   "execution_count": 115,
   "id": "b87cc758-b251-4e71-a8db-e22627062bfe",
   "metadata": {},
   "outputs": [
    {
     "data": {
      "text/plain": [
       "array([[1., 1., 1., 0.],\n",
       "       [0., 0., 0., 1.],\n",
       "       [0., 0., 0., 1.],\n",
       "       [1., 0., 1., 0.]])"
      ]
     },
     "execution_count": 115,
     "metadata": {},
     "output_type": "execute_result"
    }
   ],
   "source": [
    "D_inv"
   ]
  },
  {
   "cell_type": "code",
   "execution_count": 116,
   "id": "7ad6eaa6-dcc3-4b36-ad16-dfebda09a7e6",
   "metadata": {},
   "outputs": [],
   "source": [
    "E = np.copy(D_inv)"
   ]
  },
  {
   "cell_type": "code",
   "execution_count": 117,
   "id": "4c62660e-9edd-4270-83a9-f59be4be0cb5",
   "metadata": {},
   "outputs": [],
   "source": [
    "E[np.where(D_inv == 1)] = B[np.where(D_inv == 1)]\n",
    "E[np.where(D_inv == 0)] = C[np.where(D_inv == 0)]"
   ]
  },
  {
   "cell_type": "code",
   "execution_count": 118,
   "id": "4c8a4687-85b6-472f-b504-c39061854377",
   "metadata": {},
   "outputs": [
    {
     "data": {
      "text/plain": [
       "array([[  5.,  14.,  23.,  14.],\n",
       "       [ 10.,   7.,  12., 122.],\n",
       "       [  6.,   9.,   2., 212.],\n",
       "       [ 32.,  10., 212.,   4.]])"
      ]
     },
     "execution_count": 118,
     "metadata": {},
     "output_type": "execute_result"
    }
   ],
   "source": [
    "E"
   ]
  }
 ],
 "metadata": {
  "kernelspec": {
   "display_name": "Python 3 (ipykernel)",
   "language": "python",
   "name": "python3"
  },
  "language_info": {
   "codemirror_mode": {
    "name": "ipython",
    "version": 3
   },
   "file_extension": ".py",
   "mimetype": "text/x-python",
   "name": "python",
   "nbconvert_exporter": "python",
   "pygments_lexer": "ipython3",
   "version": "3.8.10"
  }
 },
 "nbformat": 4,
 "nbformat_minor": 5
}
